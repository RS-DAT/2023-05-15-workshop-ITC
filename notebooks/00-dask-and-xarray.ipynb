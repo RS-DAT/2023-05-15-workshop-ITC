{
 "cells": [
  {
   "cell_type": "markdown",
   "id": "208a3382-6f9e-4002-9f1f-a8dd429a73e7",
   "metadata": {},
   "source": [
    "# Parallel calculations using Dask"
   ]
  },
  {
   "cell_type": "markdown",
   "id": "ed2f52d3-feb1-4477-99e9-91c496939bed",
   "metadata": {
    "tags": []
   },
   "source": [
    "From the [Dask documentation](https://docs.dask.org):\n",
    "\n",
    "![](https://docs.dask.org/en/stable/_images/dask-overview.svg)"
   ]
  },
  {
   "cell_type": "markdown",
   "id": "c1771b99-8fd2-42ca-9d3c-650cc54fdbcf",
   "metadata": {},
   "source": [
    "## 1. Create task graphs"
   ]
  },
  {
   "cell_type": "markdown",
   "id": "0c4ec5e3-f75e-457e-a7e3-94e2dc270cde",
   "metadata": {},
   "source": [
    "### 1.1 Dask Delayed"
   ]
  },
  {
   "cell_type": "code",
   "execution_count": null,
   "id": "49c17839-ef53-4c5b-ad3a-351c56834937",
   "metadata": {},
   "outputs": [],
   "source": []
  },
  {
   "cell_type": "code",
   "execution_count": null,
   "id": "a42357bd-998c-471f-bacd-df5807ea5d15",
   "metadata": {},
   "outputs": [],
   "source": []
  },
  {
   "cell_type": "code",
   "execution_count": null,
   "id": "4d078f6d-836a-44e3-81d7-c20518f265fc",
   "metadata": {},
   "outputs": [],
   "source": []
  },
  {
   "cell_type": "markdown",
   "id": "2b282add-3b7f-4efc-9a9e-6d8ec43a44c9",
   "metadata": {},
   "source": [
    "### 1.2 Dask Arrays"
   ]
  },
  {
   "cell_type": "code",
   "execution_count": null,
   "id": "f09aa023-b314-45aa-8cd5-eb5e7d2de90a",
   "metadata": {},
   "outputs": [],
   "source": []
  },
  {
   "cell_type": "code",
   "execution_count": null,
   "id": "7c7cfd96-610e-45dc-a22f-a5a3de92e7b7",
   "metadata": {},
   "outputs": [],
   "source": []
  },
  {
   "cell_type": "code",
   "execution_count": null,
   "id": "8fd6a853-7bf2-4fea-9be8-a84395aa8675",
   "metadata": {},
   "outputs": [],
   "source": []
  },
  {
   "cell_type": "markdown",
   "id": "8215529b-ac70-4d52-9746-449a2cd8e719",
   "metadata": {},
   "source": [
    "### 1.3 Xarray\n",
    "\n",
    "From the [Xarray documentation](https://docs.xarray.dev): \n",
    "![](https://docs.xarray.dev/en/stable/_images/dataset-diagram.png)"
   ]
  },
  {
   "cell_type": "code",
   "execution_count": null,
   "id": "eecd8f75-fca3-4a4f-a9f6-2848627805b5",
   "metadata": {
    "tags": []
   },
   "outputs": [],
   "source": [
    "raster_path = '/project/stursdat/Data/RS-DAT/sentinel-2-l2a_AMS_2023-04/2023/4/30/S2B_31UFU_20230430_0_L2A/B02.tif'"
   ]
  },
  {
   "cell_type": "code",
   "execution_count": null,
   "id": "9f94ab41-c4d0-4272-8c70-711eaf4eb7e3",
   "metadata": {},
   "outputs": [],
   "source": []
  },
  {
   "cell_type": "code",
   "execution_count": null,
   "id": "cb222b35-8a6b-474e-8b9a-552f36de9569",
   "metadata": {},
   "outputs": [],
   "source": []
  },
  {
   "cell_type": "code",
   "execution_count": null,
   "id": "a76c92e0-9eab-4a6e-b81f-482a9bc0a168",
   "metadata": {},
   "outputs": [],
   "source": []
  },
  {
   "cell_type": "markdown",
   "id": "00988b27-6336-42e9-bff8-5a72fe8bab46",
   "metadata": {},
   "source": [
    "## 2. Execute task graphs"
   ]
  },
  {
   "cell_type": "markdown",
   "id": "8e1a03e9-b1fd-454c-8fe6-53943d0803c4",
   "metadata": {},
   "source": [
    "### 2.1 Multi-threading/processing"
   ]
  },
  {
   "cell_type": "code",
   "execution_count": null,
   "id": "5b9c2be1-00e3-4a76-bd2a-9c1b21c30e05",
   "metadata": {},
   "outputs": [],
   "source": []
  },
  {
   "cell_type": "code",
   "execution_count": null,
   "id": "571cdb82-48a0-4fb8-9d6e-21453ee9aa1f",
   "metadata": {},
   "outputs": [],
   "source": []
  },
  {
   "cell_type": "code",
   "execution_count": null,
   "id": "6b622fd2-a8c6-4f3f-95d6-1a91f58c3bc0",
   "metadata": {},
   "outputs": [],
   "source": []
  },
  {
   "cell_type": "markdown",
   "id": "f0ad183c-a323-4551-bd14-a54b0fc80ced",
   "metadata": {},
   "source": [
    "### 2.2 Distributed scheduler"
   ]
  },
  {
   "cell_type": "code",
   "execution_count": null,
   "id": "6e294b8b-8614-42d6-8010-313a95c88112",
   "metadata": {},
   "outputs": [],
   "source": []
  },
  {
   "cell_type": "code",
   "execution_count": null,
   "id": "a22acbbf-5e4d-4aca-93c1-bc826fcda53f",
   "metadata": {},
   "outputs": [],
   "source": []
  },
  {
   "cell_type": "code",
   "execution_count": null,
   "id": "3ababf88-bed8-44cb-a873-6759a6a90f0c",
   "metadata": {},
   "outputs": [],
   "source": []
  }
 ],
 "metadata": {
  "kernelspec": {
   "display_name": "Python 3 (ipykernel)",
   "language": "python",
   "name": "python3"
  },
  "language_info": {
   "codemirror_mode": {
    "name": "ipython",
    "version": 3
   },
   "file_extension": ".py",
   "mimetype": "text/x-python",
   "name": "python",
   "nbconvert_exporter": "python",
   "pygments_lexer": "ipython3",
   "version": "3.10.11"
  }
 },
 "nbformat": 4,
 "nbformat_minor": 5
}
