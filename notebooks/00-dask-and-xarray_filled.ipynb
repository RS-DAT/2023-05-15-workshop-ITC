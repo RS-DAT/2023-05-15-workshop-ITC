{
 "cells": [
  {
   "cell_type": "markdown",
   "id": "208a3382-6f9e-4002-9f1f-a8dd429a73e7",
   "metadata": {},
   "source": [
    "# Parallel calculations using Dask"
   ]
  },
  {
   "cell_type": "markdown",
   "id": "ed2f52d3-feb1-4477-99e9-91c496939bed",
   "metadata": {
    "tags": []
   },
   "source": [
    "From the [Dask documentation](https://docs.dask.org):\n",
    "\n",
    "![](https://docs.dask.org/en/stable/_images/dask-overview.svg)"
   ]
  },
  {
   "cell_type": "markdown",
   "id": "c1771b99-8fd2-42ca-9d3c-650cc54fdbcf",
   "metadata": {},
   "source": [
    "## 1. Create task graphs"
   ]
  },
  {
   "cell_type": "markdown",
   "id": "0c4ec5e3-f75e-457e-a7e3-94e2dc270cde",
   "metadata": {},
   "source": [
    "### 1.1 Dask Delayed"
   ]
  },
  {
   "cell_type": "code",
   "execution_count": null,
   "id": "3fb5226c-d5e1-445f-8bb4-d968060b2509",
   "metadata": {
    "tags": []
   },
   "outputs": [],
   "source": [
    "from dask.delayed import delayed"
   ]
  },
  {
   "cell_type": "code",
   "execution_count": null,
   "id": "9dd1b8c9-305b-4209-a5ff-094c9d2c3f88",
   "metadata": {
    "tags": []
   },
   "outputs": [],
   "source": [
    "@delayed\n",
    "def add(x, y):\n",
    "    print(f\"{x} + {y}\")\n",
    "    return x + y"
   ]
  },
  {
   "cell_type": "code",
   "execution_count": null,
   "id": "09553dcf-a8c3-4426-a9e2-59e3f8c62bf3",
   "metadata": {
    "tags": []
   },
   "outputs": [],
   "source": [
    "a_p = add(1, 2)"
   ]
  },
  {
   "cell_type": "code",
   "execution_count": null,
   "id": "1e643a37-f2c4-4ff6-b275-513b1d30dc0b",
   "metadata": {
    "tags": []
   },
   "outputs": [],
   "source": [
    "b_p = add(a_p, 3)"
   ]
  },
  {
   "cell_type": "code",
   "execution_count": null,
   "id": "8aa42dab-ddd0-4e1d-8d27-eeb546a27174",
   "metadata": {
    "tags": []
   },
   "outputs": [],
   "source": [
    "c_p = add(a_p, b_p)"
   ]
  },
  {
   "cell_type": "code",
   "execution_count": null,
   "id": "493ecbf2-a8b5-4fc5-a1f1-ee447dd8c4c6",
   "metadata": {
    "tags": []
   },
   "outputs": [],
   "source": [
    "import dask"
   ]
  },
  {
   "cell_type": "code",
   "execution_count": null,
   "id": "d85d7a52-ed1f-4036-847d-6b23b93e3e13",
   "metadata": {
    "tags": []
   },
   "outputs": [],
   "source": [
    "dask.visualize(c_p, rankdir=\"LR\")"
   ]
  },
  {
   "cell_type": "code",
   "execution_count": null,
   "id": "2f37a02a-ace7-40b1-9452-97591550ad6c",
   "metadata": {
    "tags": []
   },
   "outputs": [],
   "source": [
    "c_p.compute()"
   ]
  },
  {
   "cell_type": "markdown",
   "id": "2b282add-3b7f-4efc-9a9e-6d8ec43a44c9",
   "metadata": {},
   "source": [
    "### 1.2 Dask Arrays"
   ]
  },
  {
   "cell_type": "code",
   "execution_count": null,
   "id": "89c37286-e005-43f6-9a76-e44d3adf4aab",
   "metadata": {
    "tags": []
   },
   "outputs": [],
   "source": [
    "import dask.array as da"
   ]
  },
  {
   "cell_type": "code",
   "execution_count": null,
   "id": "da0f8618-50e1-4721-9307-2956826f3165",
   "metadata": {
    "tags": []
   },
   "outputs": [],
   "source": [
    "x = da.random.random((2000, 1000), chunks=(500, 500))"
   ]
  },
  {
   "cell_type": "code",
   "execution_count": null,
   "id": "564b0b98-2009-406e-8802-753370543bc6",
   "metadata": {
    "tags": []
   },
   "outputs": [],
   "source": [
    "x"
   ]
  },
  {
   "cell_type": "code",
   "execution_count": null,
   "id": "6ecb3b67-b355-4f98-b972-b73f06ed62e1",
   "metadata": {
    "tags": []
   },
   "outputs": [],
   "source": [
    "y = da.dot(x, x.T)"
   ]
  },
  {
   "cell_type": "code",
   "execution_count": null,
   "id": "b156d35d-4bfa-4f88-a5b5-a7bcde1a7224",
   "metadata": {
    "tags": []
   },
   "outputs": [],
   "source": [
    "y"
   ]
  },
  {
   "cell_type": "code",
   "execution_count": null,
   "id": "4c2409a3-13b2-4014-895f-f5be700d43ad",
   "metadata": {
    "tags": []
   },
   "outputs": [],
   "source": [
    "z = y.mean()"
   ]
  },
  {
   "cell_type": "code",
   "execution_count": null,
   "id": "b4ca8327-c983-428f-a8bc-a7399b5e602a",
   "metadata": {
    "tags": []
   },
   "outputs": [],
   "source": [
    "z"
   ]
  },
  {
   "cell_type": "code",
   "execution_count": null,
   "id": "cb4243a0-60e1-4336-a6b1-bc37e443441e",
   "metadata": {
    "tags": []
   },
   "outputs": [],
   "source": [
    "dask.visualize(z)"
   ]
  },
  {
   "cell_type": "code",
   "execution_count": null,
   "id": "b7a0baf5-bf74-4457-a7ff-2acdbeb23e67",
   "metadata": {
    "tags": []
   },
   "outputs": [],
   "source": [
    "z.compute()"
   ]
  },
  {
   "cell_type": "markdown",
   "id": "8215529b-ac70-4d52-9746-449a2cd8e719",
   "metadata": {},
   "source": [
    "### 1.3 Xarray\n",
    "\n",
    "From the [Xarray documentation](https://docs.xarray.dev): \n",
    "![](https://docs.xarray.dev/en/stable/_images/dataset-diagram.png)"
   ]
  },
  {
   "cell_type": "code",
   "execution_count": null,
   "id": "eecd8f75-fca3-4a4f-a9f6-2848627805b5",
   "metadata": {
    "tags": []
   },
   "outputs": [],
   "source": [
    "raster_path = '/project/stursdat/Data/RS-DAT/sentinel-2-l2a_AMS_2023-04/2023/4/30/S2B_31UFU_20230430_0_L2A/B02.tif'"
   ]
  },
  {
   "cell_type": "code",
   "execution_count": null,
   "id": "0cfa8684-a344-4bb6-8c5c-44f6fe1fb939",
   "metadata": {
    "tags": []
   },
   "outputs": [],
   "source": [
    "import rioxarray"
   ]
  },
  {
   "cell_type": "code",
   "execution_count": null,
   "id": "b756b82d-8a08-421f-9ce3-ea3d7bbfb4e7",
   "metadata": {
    "tags": []
   },
   "outputs": [],
   "source": [
    "raster = rioxarray.open_rasterio(raster_path, chunks={\"x\": 2048, \"y\": 2048 }, lock=False)"
   ]
  },
  {
   "cell_type": "code",
   "execution_count": null,
   "id": "b6e44215-aee0-432b-9a39-f1762a135459",
   "metadata": {
    "tags": []
   },
   "outputs": [],
   "source": [
    "raster"
   ]
  },
  {
   "cell_type": "code",
   "execution_count": null,
   "id": "5c13a30e-021c-471a-86f3-425a31cd4952",
   "metadata": {
    "tags": []
   },
   "outputs": [],
   "source": [
    "raster_max = raster.max()"
   ]
  },
  {
   "cell_type": "code",
   "execution_count": null,
   "id": "676eb535-b5c2-4e58-a268-133361c783c5",
   "metadata": {
    "tags": []
   },
   "outputs": [],
   "source": [
    "dask.visualize(raster_max)"
   ]
  },
  {
   "cell_type": "code",
   "execution_count": null,
   "id": "9ca9c10f-837c-4af6-ae30-1e95c3f47294",
   "metadata": {
    "tags": []
   },
   "outputs": [],
   "source": [
    "raster_max.compute()"
   ]
  },
  {
   "cell_type": "markdown",
   "id": "00988b27-6336-42e9-bff8-5a72fe8bab46",
   "metadata": {},
   "source": [
    "## 2. Execute task graphs"
   ]
  },
  {
   "cell_type": "markdown",
   "id": "8e1a03e9-b1fd-454c-8fe6-53943d0803c4",
   "metadata": {},
   "source": [
    "### 2.1 Multi-threading/processing"
   ]
  },
  {
   "cell_type": "code",
   "execution_count": null,
   "id": "f192d8ef-98cb-46ba-a4f2-56ec67fd0b82",
   "metadata": {
    "tags": []
   },
   "outputs": [],
   "source": [
    "%%time\n",
    "raster_max.compute(scheduler=\"threads\", num_workers=2)"
   ]
  },
  {
   "cell_type": "code",
   "execution_count": null,
   "id": "e504f2c1-7ee2-4fd7-b009-067c8653ad20",
   "metadata": {
    "tags": []
   },
   "outputs": [],
   "source": [
    "%%time\n",
    "raster_max.compute(scheduler=\"processes\", num_workers=2)"
   ]
  },
  {
   "cell_type": "markdown",
   "id": "f0ad183c-a323-4551-bd14-a54b0fc80ced",
   "metadata": {},
   "source": [
    "### 2.2 Distributed scheduler"
   ]
  },
  {
   "cell_type": "code",
   "execution_count": null,
   "id": "a6067886-4d76-41b2-913b-15610d40a8c7",
   "metadata": {
    "tags": []
   },
   "outputs": [],
   "source": [
    "from dask.distributed import Client\n",
    "\n",
    "client = Client(\"tcp://10.0.2.120:46409\")\n",
    "client"
   ]
  },
  {
   "cell_type": "code",
   "execution_count": null,
   "id": "5f64b7f9-b59f-414b-9938-e76c16fe0d1f",
   "metadata": {
    "tags": []
   },
   "outputs": [],
   "source": [
    "raster_max.compute()"
   ]
  }
 ],
 "metadata": {
  "kernelspec": {
   "display_name": "Python 3 (ipykernel)",
   "language": "python",
   "name": "python3"
  },
  "language_info": {
   "codemirror_mode": {
    "name": "ipython",
    "version": 3
   },
   "file_extension": ".py",
   "mimetype": "text/x-python",
   "name": "python",
   "nbconvert_exporter": "python",
   "pygments_lexer": "ipython3",
   "version": "3.10.11"
  }
 },
 "nbformat": 4,
 "nbformat_minor": 5
}
