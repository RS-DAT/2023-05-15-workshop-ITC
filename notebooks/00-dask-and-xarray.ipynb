{
 "cells": [
  {
   "cell_type": "markdown",
   "id": "208a3382-6f9e-4002-9f1f-a8dd429a73e7",
   "metadata": {},
   "source": [
    "# Parallel calculations using Dask "
   ]
  },
  {
   "cell_type": "markdown",
   "id": "ed2f52d3-feb1-4477-99e9-91c496939bed",
   "metadata": {
    "tags": []
   },
   "source": [
    "From the [Dask documentation](https://docs.dask.org):\n",
    "\n",
    "![](https://docs.dask.org/en/stable/_images/dask-overview.svg)"
   ]
  },
  {
   "cell_type": "markdown",
   "id": "c1771b99-8fd2-42ca-9d3c-650cc54fdbcf",
   "metadata": {},
   "source": [
    "## 1. Create task graphs"
   ]
  },
  {
   "cell_type": "markdown",
   "id": "0c4ec5e3-f75e-457e-a7e3-94e2dc270cde",
   "metadata": {},
   "source": [
    "### 1.1 Dask Delayeds"
   ]
  },
  {
   "cell_type": "code",
   "execution_count": null,
   "id": "3fb5226c-d5e1-445f-8bb4-d968060b2509",
   "metadata": {},
   "outputs": [],
   "source": []
  },
  {
   "cell_type": "code",
   "execution_count": null,
   "id": "9dd1b8c9-305b-4209-a5ff-094c9d2c3f88",
   "metadata": {},
   "outputs": [],
   "source": []
  },
  {
   "cell_type": "code",
   "execution_count": null,
   "id": "09553dcf-a8c3-4426-a9e2-59e3f8c62bf3",
   "metadata": {},
   "outputs": [],
   "source": []
  },
  {
   "cell_type": "markdown",
   "id": "2b282add-3b7f-4efc-9a9e-6d8ec43a44c9",
   "metadata": {},
   "source": [
    "### 1.2 Dask Arrays"
   ]
  },
  {
   "cell_type": "code",
   "execution_count": null,
   "id": "89c37286-e005-43f6-9a76-e44d3adf4aab",
   "metadata": {},
   "outputs": [],
   "source": []
  },
  {
   "cell_type": "code",
   "execution_count": null,
   "id": "da0f8618-50e1-4721-9307-2956826f3165",
   "metadata": {},
   "outputs": [],
   "source": []
  },
  {
   "cell_type": "code",
   "execution_count": null,
   "id": "564b0b98-2009-406e-8802-753370543bc6",
   "metadata": {},
   "outputs": [],
   "source": []
  },
  {
   "cell_type": "markdown",
   "id": "8215529b-ac70-4d52-9746-449a2cd8e719",
   "metadata": {},
   "source": [
    "### 1.3 Xarray\n",
    "\n",
    "From the [Xarray documentation](https://docs.xarray.dev): \n",
    "![](https://docs.xarray.dev/en/stable/_images/dataset-diagram.png)"
   ]
  },
  {
   "cell_type": "code",
   "execution_count": null,
   "id": "eecd8f75-fca3-4a4f-a9f6-2848627805b5",
   "metadata": {},
   "outputs": [],
   "source": []
  },
  {
   "cell_type": "code",
   "execution_count": null,
   "id": "0cfa8684-a344-4bb6-8c5c-44f6fe1fb939",
   "metadata": {},
   "outputs": [],
   "source": []
  },
  {
   "cell_type": "code",
   "execution_count": null,
   "id": "b756b82d-8a08-421f-9ce3-ea3d7bbfb4e7",
   "metadata": {},
   "outputs": [],
   "source": []
  },
  {
   "cell_type": "markdown",
   "id": "00988b27-6336-42e9-bff8-5a72fe8bab46",
   "metadata": {},
   "source": [
    "## 2. Execute task graphs"
   ]
  },
  {
   "cell_type": "markdown",
   "id": "8e1a03e9-b1fd-454c-8fe6-53943d0803c4",
   "metadata": {},
   "source": [
    "### 2.1 Multi-threading/processing"
   ]
  },
  {
   "cell_type": "code",
   "execution_count": null,
   "id": "f192d8ef-98cb-46ba-a4f2-56ec67fd0b82",
   "metadata": {},
   "outputs": [],
   "source": []
  },
  {
   "cell_type": "code",
   "execution_count": null,
   "id": "e504f2c1-7ee2-4fd7-b009-067c8653ad20",
   "metadata": {},
   "outputs": [],
   "source": []
  },
  {
   "cell_type": "code",
   "execution_count": null,
   "id": "da5680f3-0e8c-4417-9d17-aea713981857",
   "metadata": {},
   "outputs": [],
   "source": []
  },
  {
   "cell_type": "markdown",
   "id": "41793550-ef13-4684-8ebb-af77f98ccdf3",
   "metadata": {},
   "source": [
    "### 2.2 Distributed scheduler (local cluster)"
   ]
  },
  {
   "cell_type": "code",
   "execution_count": null,
   "id": "7750e7a7-e4b7-4559-a63d-a559d18bfef5",
   "metadata": {},
   "outputs": [],
   "source": []
  },
  {
   "cell_type": "code",
   "execution_count": null,
   "id": "555428b0-de4a-473f-ba78-c67e66eadce7",
   "metadata": {},
   "outputs": [],
   "source": []
  },
  {
   "cell_type": "code",
   "execution_count": null,
   "id": "9f361261-1207-4afc-9477-cae45c85b7b4",
   "metadata": {},
   "outputs": [],
   "source": []
  },
  {
   "cell_type": "markdown",
   "id": "f0ad183c-a323-4551-bd14-a54b0fc80ced",
   "metadata": {},
   "source": [
    "### 2.3 Distributed scheduler (SLURM cluster)"
   ]
  },
  {
   "cell_type": "code",
   "execution_count": null,
   "id": "5f64b7f9-b59f-414b-9938-e76c16fe0d1f",
   "metadata": {},
   "outputs": [],
   "source": []
  },
  {
   "cell_type": "code",
   "execution_count": null,
   "id": "d275fd40-8302-449e-a0e9-391410dc2e66",
   "metadata": {},
   "outputs": [],
   "source": []
  },
  {
   "cell_type": "code",
   "execution_count": null,
   "id": "ce37a018-22c3-476e-9416-e49d19e5a76d",
   "metadata": {},
   "outputs": [],
   "source": []
  }
 ],
 "metadata": {
  "kernelspec": {
   "display_name": "Python 3 (ipykernel)",
   "language": "python",
   "name": "python3"
  },
  "language_info": {
   "codemirror_mode": {
    "name": "ipython",
    "version": 3
   },
   "file_extension": ".py",
   "mimetype": "text/x-python",
   "name": "python",
   "nbconvert_exporter": "python",
   "pygments_lexer": "ipython3",
   "version": "3.10.11"
  }
 },
 "nbformat": 4,
 "nbformat_minor": 5
}
