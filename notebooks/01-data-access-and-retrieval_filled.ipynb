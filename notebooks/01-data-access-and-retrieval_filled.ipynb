{
 "cells": [
  {
   "cell_type": "markdown",
   "id": "f7938ada-2aad-4f0c-9c16-34eb30b624a5",
   "metadata": {},
   "source": [
    "# Data Access and Retrieval"
   ]
  },
  {
   "cell_type": "markdown",
   "id": "6e8d9b0c-c424-4b2c-a438-c6173134ebdb",
   "metadata": {},
   "source": [
    "The [SpatioTemporal Asset Catalog (STAC) specification](https://stacspec.org/en) is becoming a standard to store and organized geospatial (meta)data. In this notebook we explore the world of STAC and show how it can be used to retrieve remote datasets, also in combination with the [SURF dCache storage system](http://doc.grid.surfsara.nl/en/latest/Pages/Advanced/grid_storage.html#dcache). "
   ]
  },
  {
   "cell_type": "markdown",
   "id": "3b07ed67-7af4-435f-9c2c-72e379b677af",
   "metadata": {},
   "source": [
    "## 1. STAC: APIs vs Static catalogs"
   ]
  },
  {
   "cell_type": "markdown",
   "id": "f780adf3-a292-4972-b91a-e423fb67aa39",
   "metadata": {},
   "source": [
    "There are two main types of STAC catalogs: \"dynamic\" catalogs (STAC APIs) and static catalogs. STAC APIs can be accessed (and queried!) via `pystac_client`:"
   ]
  },
  {
   "cell_type": "code",
   "execution_count": null,
   "id": "30f6f461-9acc-4d1e-8b33-b9d2a01263c7",
   "metadata": {},
   "outputs": [],
   "source": [
    "stac_api_url = \"https://earth-search.aws.element84.com/v1\""
   ]
  },
  {
   "cell_type": "code",
   "execution_count": null,
   "id": "92b7590f-44ed-46e0-a84e-bb8baefe05cf",
   "metadata": {},
   "outputs": [],
   "source": [
    "import pystac_client"
   ]
  },
  {
   "cell_type": "code",
   "execution_count": null,
   "id": "b97f672e-761b-4f76-9cfc-0974505a4d9a",
   "metadata": {},
   "outputs": [],
   "source": [
    "client = pystac_client.Client.open(stac_api_url)"
   ]
  },
  {
   "cell_type": "code",
   "execution_count": null,
   "id": "e4d686d0-9641-46e9-8579-2bff97e8c806",
   "metadata": {},
   "outputs": [],
   "source": [
    "client"
   ]
  },
  {
   "cell_type": "markdown",
   "id": "72671c06-40ff-47c7-ba99-f391903ef2a7",
   "metadata": {},
   "source": [
    "Static catalogs are a set of files (on your filesystem, web server, object storage, ...). They can be opened directly using `pystac`: "
   ]
  },
  {
   "cell_type": "code",
   "execution_count": null,
   "id": "18652c69-3ab0-4788-99a8-92294408c6e2",
   "metadata": {},
   "outputs": [],
   "source": [
    "stac_root_dir = \"/project/stursdat/Data/RS-DAT/sentinel-2-l2a_AMS_2023-04\""
   ]
  },
  {
   "cell_type": "code",
   "execution_count": null,
   "id": "4085e7bf-5981-4554-ba45-26350765be9d",
   "metadata": {},
   "outputs": [],
   "source": [
    "!ls $stac_root_dir"
   ]
  },
  {
   "cell_type": "code",
   "execution_count": null,
   "id": "804e4e7d-ddf5-4690-ac87-1b9ef2454c58",
   "metadata": {
    "tags": []
   },
   "outputs": [],
   "source": [
    "!tree $stac_root_dir"
   ]
  },
  {
   "cell_type": "code",
   "execution_count": null,
   "id": "079db5ee-22ef-43f6-844a-d86a2653abac",
   "metadata": {
    "tags": []
   },
   "outputs": [],
   "source": [
    "import pystac"
   ]
  },
  {
   "cell_type": "code",
   "execution_count": null,
   "id": "1703274e-5655-42df-82f4-258b0ec8481f",
   "metadata": {
    "tags": []
   },
   "outputs": [],
   "source": [
    "catalog = pystac.Catalog.from_file(f\"{stac_root_dir}/catalog.json\")"
   ]
  },
  {
   "cell_type": "code",
   "execution_count": null,
   "id": "a134866f-9c8d-4ee8-a07f-7bf55c76869c",
   "metadata": {
    "tags": []
   },
   "outputs": [],
   "source": [
    "catalog.describe()"
   ]
  },
  {
   "cell_type": "code",
   "execution_count": null,
   "id": "6af40f73-5130-4a31-a959-a190f1023cf9",
   "metadata": {
    "tags": []
   },
   "outputs": [],
   "source": [
    "for item in catalog.get_all_items():\n",
    "    print(item)"
   ]
  },
  {
   "cell_type": "code",
   "execution_count": null,
   "id": "09085ede-2e5a-4048-aa11-0fc6034b4a6b",
   "metadata": {
    "tags": []
   },
   "outputs": [],
   "source": [
    "item.assets"
   ]
  },
  {
   "cell_type": "code",
   "execution_count": null,
   "id": "5066a4dd-24b8-4be6-8292-0ad5bb8989f3",
   "metadata": {
    "tags": []
   },
   "outputs": [],
   "source": [
    "item.properties"
   ]
  },
  {
   "cell_type": "markdown",
   "id": "e6ce2a69-ab01-41e5-ac5a-0a00bd651614",
   "metadata": {},
   "source": [
    "## 2. Constructing a catalog: Daymet \n",
    "\n",
    "### 2.1 The dataset\n",
    "\n",
    "The Daymet dataset includes daily surface weather data for North America, starting from from January 1, 1980 (1950 for Puerto Rico). The dataset consists of a set of netCDF files that include gridded estimates of 7 parameters on a 1-km grid. More information on the dataset can be found [here](https://daac.ornl.gov/cgi-bin/dsviewer.pl?ds_id=2129) (dataset version 4.5, https://doi.org/10.3334/ORNLDAAC/2129).\n",
    "\n",
    "![](https://daac.ornl.gov/DAYMET/guides/Daymet_Daily_V4R1_Fig1.png)"
   ]
  },
  {
   "cell_type": "code",
   "execution_count": null,
   "id": "5e7c8d62-6985-4459-a0af-71b71a342f0f",
   "metadata": {
    "tags": []
   },
   "outputs": [],
   "source": [
    "# Spatial and temporal ranges\n",
    "# (all latitude and longitude given in decimal degrees)\n",
    "\n",
    "regions = {\n",
    "    \"na\": {  # Continental North America\n",
    "        \"bbox\": (-178.1333, 14.0749, -53.0567, 82.9143),\n",
    "        \"year_range\": range(1980, 2023),\n",
    "    },\n",
    "    \"hi\": {  # Hawaii\n",
    "        \"bbox\": (-160.3056, 17.9539, -154.772, 23.5186),\n",
    "        \"year_range\": range(1980, 2023),\n",
    "    },\n",
    "    \"pr\": {  # Puerto Rico\n",
    "        \"bbox\": (-67.9927, 16.8444, -64.1196, 19.9382),\n",
    "        \"year_range\": range(1950, 2023),\n",
    "    },\n",
    "}"
   ]
  },
  {
   "cell_type": "code",
   "execution_count": null,
   "id": "ff3c5d8a-2845-4f4a-9760-41afe09b980d",
   "metadata": {
    "tags": []
   },
   "outputs": [],
   "source": [
    "# Parameters\n",
    "\n",
    "parameters = [\n",
    "    \"dayl\",  # Day length\n",
    "    \"prcp\",  # Precipitation\n",
    "    \"srad\",  # Shortwave radiation\n",
    "    \"swe\",   # Snow water equivalent\n",
    "    \"tmax\",  # Maximum air temperature\n",
    "    \"tmin\",  # Minimum air temperature\n",
    "    \"vp\",    # Water vapor pressure\n",
    "]"
   ]
  },
  {
   "cell_type": "markdown",
   "id": "69e50b61-cb1f-4a2e-ab44-902ebcc0ce92",
   "metadata": {},
   "source": [
    "Daymet is made available from the [NASA's Distributed Active Archive Center (DAAC) at Oak Ridge National Laboratory (ORNL)](https://daac.ornl.gov). Individual NetCDF files can be accessed from URLs formatted as below:"
   ]
  },
  {
   "cell_type": "code",
   "execution_count": null,
   "id": "3265f83b-789c-4510-8b70-0a622a3bfb29",
   "metadata": {
    "tags": []
   },
   "outputs": [],
   "source": [
    "# Dataset URLs\n",
    "\n",
    "ORNL_DAAC_ROOT = \"https://thredds.daac.ornl.gov/thredds/fileServer/ornldaac\"\n",
    "\n",
    "def get_daymet_file_url(region, param, year):\n",
    "    return (\n",
    "        f\"{ORNL_DAAC_ROOT}/2129/daymet_v4_daily_{region}_{param}_{year}.nc\"\n",
    "    )"
   ]
  },
  {
   "cell_type": "markdown",
   "id": "dca49fba-4600-4421-b214-4e037c8086ed",
   "metadata": {},
   "source": [
    "### 2.2 Constructing the catalog"
   ]
  },
  {
   "cell_type": "code",
   "execution_count": null,
   "id": "e40d1205-c6d0-41b3-8ffd-ccf846a88bb7",
   "metadata": {
    "tags": []
   },
   "outputs": [],
   "source": [
    "import datetime"
   ]
  },
  {
   "cell_type": "code",
   "execution_count": null,
   "id": "63a09227-fa5e-4536-86a3-4e8d0f3fc827",
   "metadata": {
    "tags": []
   },
   "outputs": [],
   "source": [
    "catalog = pystac.Catalog(id=\"daymet-daily-v4.5\", description=\"Daymet daily v4.5\")"
   ]
  },
  {
   "cell_type": "code",
   "execution_count": null,
   "id": "3561eb81-b20e-485c-aeb6-853104602ef8",
   "metadata": {
    "tags": []
   },
   "outputs": [],
   "source": [
    "import shapely"
   ]
  },
  {
   "cell_type": "code",
   "execution_count": null,
   "id": "88ebc638-3e0e-46a3-b618-e6895b45b622",
   "metadata": {
    "tags": []
   },
   "outputs": [],
   "source": [
    "box = shapely.box(*regions[\"na\"][\"bbox\"])"
   ]
  },
  {
   "cell_type": "code",
   "execution_count": null,
   "id": "b6144949-6803-49ab-9f45-cd3afdb4be93",
   "metadata": {
    "tags": []
   },
   "outputs": [],
   "source": [
    "shapely.geometry.mapping(box)"
   ]
  },
  {
   "cell_type": "code",
   "execution_count": null,
   "id": "9f801ea9-a3e8-4add-8025-ea386b941ef9",
   "metadata": {
    "tags": []
   },
   "outputs": [],
   "source": [
    "for region_id, region in regions.items():\n",
    "    years = region[\"year_range\"]\n",
    "    bbox = region[\"bbox\"]\n",
    "    geom = shapely.box(*bbox)\n",
    "    for year in years:\n",
    "        # Create STAC item\n",
    "        item = pystac.Item(\n",
    "            id=f\"{region_id}-{year}\",\n",
    "            geometry=shapely.geometry.mapping(geom),\n",
    "            bbox=bbox,\n",
    "            datetime=datetime.datetime(year, 1, 1),\n",
    "            properties={\"region\": region_id},\n",
    "        )\n",
    "        catalog.add_item(item)\n",
    "        for parameter in parameters:\n",
    "            # Create STAC asset\n",
    "            asset = pystac.Asset(\n",
    "                href=get_daymet_file_url(region_id, parameter, year)\n",
    "            )\n",
    "            item.add_asset(parameter, asset)"
   ]
  },
  {
   "cell_type": "code",
   "execution_count": null,
   "id": "bdf8ad96-34ed-48fc-824c-6017e0247dd0",
   "metadata": {
    "tags": []
   },
   "outputs": [],
   "source": [
    "catalog.describe()"
   ]
  },
  {
   "cell_type": "code",
   "execution_count": null,
   "id": "cfa73d0d-9da6-49d3-bfce-59ea57ac3ef6",
   "metadata": {},
   "outputs": [],
   "source": [
    "catalog.generate_subcatalogs(\"${region}\")"
   ]
  },
  {
   "cell_type": "code",
   "execution_count": null,
   "id": "01c42a33-8654-4dc4-a516-4861653c6b25",
   "metadata": {
    "tags": []
   },
   "outputs": [],
   "source": [
    "catalog.describe()"
   ]
  },
  {
   "cell_type": "code",
   "execution_count": null,
   "id": "3e66dc2d-75d5-4852-a3f7-41f5b1aa16f6",
   "metadata": {
    "tags": []
   },
   "outputs": [],
   "source": [
    "catalog.normalize_and_save(\n",
    "    \"daymet-daily-v4.5\",\n",
    "    catalog_type=pystac.CatalogType.SELF_CONTAINED,\n",
    ")"
   ]
  },
  {
   "cell_type": "markdown",
   "id": "b259e287-9f3f-4c0c-8dc4-fb40e4dd0e97",
   "metadata": {},
   "source": [
    "### 2.3 Retrieving the data"
   ]
  },
  {
   "cell_type": "code",
   "execution_count": null,
   "id": "e62c5104-2395-4440-98ce-a2c1da38a405",
   "metadata": {},
   "outputs": [],
   "source": [
    "from stac2dcache.utils import copy_asset"
   ]
  },
  {
   "cell_type": "code",
   "execution_count": null,
   "id": "eeff030d-231a-4ff1-b548-c79a9f9bdd84",
   "metadata": {
    "tags": []
   },
   "outputs": [],
   "source": [
    "hawaii = catalog.get_child(\"hi\")"
   ]
  },
  {
   "cell_type": "code",
   "execution_count": null,
   "id": "e4887ccd-e6b3-4035-8cc2-fd774fcb6bb3",
   "metadata": {},
   "outputs": [],
   "source": [
    "copy_asset(\n",
    "    hawaii,\n",
    "    \"tmin\",\n",
    "    update_catalog=True,\n",
    "    max_workers=2,\n",
    ")"
   ]
  },
  {
   "cell_type": "code",
   "execution_count": null,
   "id": "74dfe122-2e84-4265-9943-2990a69e5eef",
   "metadata": {},
   "outputs": [],
   "source": [
    "hawaii.save()"
   ]
  },
  {
   "cell_type": "markdown",
   "id": "5b6ae14c-132f-45bd-9c0e-e6d706f3a9ea",
   "metadata": {},
   "source": [
    "### 2.4 Accessing a STAC catalog on dCache"
   ]
  },
  {
   "cell_type": "markdown",
   "id": "f91f0089-26e9-4be8-9c05-253253b786f4",
   "metadata": {},
   "source": [
    "We authenticate using a macaroon, saved in a configuration file (in `~/.config/fsspec/`, see the [STAC2dCache tutorial](https://github.com/NLeSC-GO-common-infrastructure/stac2dcache/blob/main/notebooks/tutorial.ipynb) and the [fsspec documentation](https://filesystem-spec.readthedocs.io/en/latest/features.html#configuration) for more info). We can use the `fsspec` GUI to select the root `catalog.json` file on the Daymet catalog:"
   ]
  },
  {
   "cell_type": "code",
   "execution_count": null,
   "id": "d69637d7-0c3d-4ee2-8082-a3991fe3ff35",
   "metadata": {
    "tags": []
   },
   "outputs": [],
   "source": [
    "import dcachefs\n",
    "from fsspec.gui import FileSelector"
   ]
  },
  {
   "cell_type": "code",
   "execution_count": null,
   "id": "12c92330-930f-4f61-a8e3-c82998f5f3ba",
   "metadata": {
    "tags": []
   },
   "outputs": [],
   "source": [
    "dcache_root_path = \"dcache://pnfs/grid.sara.nl/data/remotesensing/disk/\""
   ]
  },
  {
   "cell_type": "code",
   "execution_count": null,
   "id": "e820a570-d46a-461f-9974-027c6e63f7e8",
   "metadata": {},
   "outputs": [],
   "source": [
    "sel = FileSelector(dcache_root_path)"
   ]
  },
  {
   "cell_type": "code",
   "execution_count": null,
   "id": "5b74ef5c-b41c-493e-8197-40206a1550b0",
   "metadata": {},
   "outputs": [],
   "source": [
    "sel"
   ]
  },
  {
   "cell_type": "code",
   "execution_count": null,
   "id": "e3e9517e-e536-402f-b619-31ab58ad1ecc",
   "metadata": {},
   "outputs": [],
   "source": [
    "catalog = pystac.Catalog.from_file(sel.urlpath)"
   ]
  },
  {
   "cell_type": "code",
   "execution_count": null,
   "id": "0368a244-cfa8-4acd-84d3-713105a4a2d3",
   "metadata": {
    "tags": []
   },
   "outputs": [],
   "source": [
    "catalog.describe()"
   ]
  },
  {
   "cell_type": "code",
   "execution_count": null,
   "id": "2cad9f29-ee33-43b7-8387-12858767c49e",
   "metadata": {
    "tags": []
   },
   "outputs": [],
   "source": [
    "item = catalog.get_item(\"na-1981\", recursive=True)"
   ]
  },
  {
   "cell_type": "code",
   "execution_count": null,
   "id": "11593223-b618-41f1-bb4f-ee0eea365b7b",
   "metadata": {
    "tags": []
   },
   "outputs": [],
   "source": [
    "item"
   ]
  }
 ],
 "metadata": {
  "kernelspec": {
   "display_name": "Python 3 (ipykernel)",
   "language": "python",
   "name": "python3"
  },
  "language_info": {
   "codemirror_mode": {
    "name": "ipython",
    "version": 3
   },
   "file_extension": ".py",
   "mimetype": "text/x-python",
   "name": "python",
   "nbconvert_exporter": "python",
   "pygments_lexer": "ipython3",
   "version": "3.10.11"
  }
 },
 "nbformat": 4,
 "nbformat_minor": 5
}
