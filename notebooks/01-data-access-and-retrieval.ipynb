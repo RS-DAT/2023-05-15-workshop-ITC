{
 "cells": [
  {
   "cell_type": "markdown",
   "id": "f7938ada-2aad-4f0c-9c16-34eb30b624a5",
   "metadata": {},
   "source": [
    "# Data Access and Retrieval"
   ]
  },
  {
   "cell_type": "markdown",
   "id": "6e8d9b0c-c424-4b2c-a438-c6173134ebdb",
   "metadata": {},
   "source": [
    "The [SpatioTemporal Asset Catalog (STAC) specification](https://stacspec.org/en) is becoming a standard to store and organized geospatial (meta)data. In this notebook we explore the world of STAC and show how it can be used to retrieve remote datasets, also in combination with the [SURF dCache storage system](http://doc.grid.surfsara.nl/en/latest/Pages/Advanced/grid_storage.html#dcache). "
   ]
  },
  {
   "cell_type": "markdown",
   "id": "3b07ed67-7af4-435f-9c2c-72e379b677af",
   "metadata": {},
   "source": [
    "## 1. STAC: APIs vs Static catalogs"
   ]
  },
  {
   "cell_type": "markdown",
   "id": "f780adf3-a292-4972-b91a-e423fb67aa39",
   "metadata": {},
   "source": [
    "There are two main types of STAC catalogs: \"dynamic\" catalogs (STAC APIs) and static catalogs. STAC APIs can be accessed (and queried!) via `pystac_client`:"
   ]
  },
  {
   "cell_type": "code",
   "execution_count": null,
   "id": "30f6f461-9acc-4d1e-8b33-b9d2a01263c7",
   "metadata": {},
   "outputs": [],
   "source": [
    "stac_api_url = \"https://earth-search.aws.element84.com/v1\""
   ]
  },
  {
   "cell_type": "code",
   "execution_count": null,
   "id": "92b7590f-44ed-46e0-a84e-bb8baefe05cf",
   "metadata": {},
   "outputs": [],
   "source": []
  },
  {
   "cell_type": "code",
   "execution_count": null,
   "id": "b97f672e-761b-4f76-9cfc-0974505a4d9a",
   "metadata": {},
   "outputs": [],
   "source": []
  },
  {
   "cell_type": "code",
   "execution_count": null,
   "id": "e4d686d0-9641-46e9-8579-2bff97e8c806",
   "metadata": {},
   "outputs": [],
   "source": []
  },
  {
   "cell_type": "markdown",
   "id": "72671c06-40ff-47c7-ba99-f391903ef2a7",
   "metadata": {},
   "source": [
    "Static catalogs are a set of files (on your filesystem, web server, object storage, ...). They can be opened directly using `pystac`: "
   ]
  },
  {
   "cell_type": "code",
   "execution_count": null,
   "id": "18652c69-3ab0-4788-99a8-92294408c6e2",
   "metadata": {},
   "outputs": [],
   "source": [
    "stac_root_dir = \"/project/stursdat/Data/RS-DAT/sentinel-2-l2a_AMS_2023-04\""
   ]
  },
  {
   "cell_type": "code",
   "execution_count": null,
   "id": "4085e7bf-5981-4554-ba45-26350765be9d",
   "metadata": {},
   "outputs": [],
   "source": []
  },
  {
   "cell_type": "code",
   "execution_count": null,
   "id": "804e4e7d-ddf5-4690-ac87-1b9ef2454c58",
   "metadata": {},
   "outputs": [],
   "source": []
  },
  {
   "cell_type": "code",
   "execution_count": null,
   "id": "079db5ee-22ef-43f6-844a-d86a2653abac",
   "metadata": {},
   "outputs": [],
   "source": []
  },
  {
   "cell_type": "markdown",
   "id": "e6ce2a69-ab01-41e5-ac5a-0a00bd651614",
   "metadata": {},
   "source": [
    "## 2. Constructing a catalog: Daymet \n",
    "\n",
    "### 2.1 The dataset\n",
    "\n",
    "The Daymet dataset includes daily surface weather data for North America, starting from from January 1, 1980 (1950 for Puerto Rico). The dataset consists of a set of netCDF files that include gridded estimates of 7 parameters on a 1-km grid. More information on the dataset can be found [here](https://daac.ornl.gov/cgi-bin/dsviewer.pl?ds_id=2129) (dataset version 4.5, https://doi.org/10.3334/ORNLDAAC/2129).\n",
    "\n",
    "![](https://daac.ornl.gov/DAYMET/guides/Daymet_Daily_V4R1_Fig1.png)"
   ]
  },
  {
   "cell_type": "code",
   "execution_count": null,
   "id": "5e7c8d62-6985-4459-a0af-71b71a342f0f",
   "metadata": {
    "tags": []
   },
   "outputs": [],
   "source": [
    "# Spatial and temporal ranges\n",
    "# (all latitude and longitude given in decimal degrees)\n",
    "\n",
    "regions = {\n",
    "    \"na\": {  # Continental North America\n",
    "        \"bbox\": (-178.1333, 14.0749, -53.0567, 82.9143),\n",
    "        \"year_range\": range(1980, 2023),\n",
    "    },\n",
    "    \"hi\": {  # Hawaii\n",
    "        \"bbox\": (-160.3056, 17.9539, -154.772, 23.5186),\n",
    "        \"year_range\": range(1980, 2023),\n",
    "    },\n",
    "    \"pr\": {  # Puerto Rico\n",
    "        \"bbox\": (-67.9927, 16.8444, -64.1196, 19.9382),\n",
    "        \"year_range\": range(1950, 2023),\n",
    "    },\n",
    "}"
   ]
  },
  {
   "cell_type": "code",
   "execution_count": null,
   "id": "ff3c5d8a-2845-4f4a-9760-41afe09b980d",
   "metadata": {
    "tags": []
   },
   "outputs": [],
   "source": [
    "# Parameters\n",
    "\n",
    "parameters = [\n",
    "    \"dayl\",  # Day length\n",
    "    \"prcp\",  # Precipitation\n",
    "    \"srad\",  # Shortwave radiation\n",
    "    \"swe\",   # Snow water equivalent\n",
    "    \"tmax\",  # Maximum air temperature\n",
    "    \"tmin\",  # Minimum air temperature\n",
    "    \"vp\",    # Water vapor pressure\n",
    "]"
   ]
  },
  {
   "cell_type": "markdown",
   "id": "69e50b61-cb1f-4a2e-ab44-902ebcc0ce92",
   "metadata": {},
   "source": [
    "Daymet is made available from the [NASA's Distributed Active Archive Center (DAAC) at Oak Ridge National Laboratory (ORNL)](https://daac.ornl.gov). Individual NetCDF files can be accessed from URLs formatted as below:"
   ]
  },
  {
   "cell_type": "code",
   "execution_count": null,
   "id": "3265f83b-789c-4510-8b70-0a622a3bfb29",
   "metadata": {
    "tags": []
   },
   "outputs": [],
   "source": [
    "# Dataset URLs\n",
    "\n",
    "ORNL_DAAC_ROOT = \"https://thredds.daac.ornl.gov/thredds/fileServer/ornldaac\"\n",
    "\n",
    "def get_daymet_file_url(region, param, year):\n",
    "    return (\n",
    "        f\"{ORNL_DAAC_ROOT}/2129/daymet_v4_daily_{region}_{param}_{year}.nc\"\n",
    "    )"
   ]
  },
  {
   "cell_type": "markdown",
   "id": "dca49fba-4600-4421-b214-4e037c8086ed",
   "metadata": {},
   "source": [
    "### 2.2 Constructing the catalog"
   ]
  },
  {
   "cell_type": "code",
   "execution_count": null,
   "id": "63a09227-fa5e-4536-86a3-4e8d0f3fc827",
   "metadata": {
    "tags": []
   },
   "outputs": [],
   "source": []
  },
  {
   "cell_type": "code",
   "execution_count": null,
   "id": "9f801ea9-a3e8-4add-8025-ea386b941ef9",
   "metadata": {},
   "outputs": [],
   "source": []
  },
  {
   "cell_type": "code",
   "execution_count": null,
   "id": "cfa73d0d-9da6-49d3-bfce-59ea57ac3ef6",
   "metadata": {},
   "outputs": [],
   "source": []
  },
  {
   "cell_type": "markdown",
   "id": "b259e287-9f3f-4c0c-8dc4-fb40e4dd0e97",
   "metadata": {},
   "source": [
    "### 2.3 Retrieving the data"
   ]
  },
  {
   "cell_type": "code",
   "execution_count": null,
   "id": "e62c5104-2395-4440-98ce-a2c1da38a405",
   "metadata": {},
   "outputs": [],
   "source": []
  },
  {
   "cell_type": "code",
   "execution_count": null,
   "id": "e4887ccd-e6b3-4035-8cc2-fd774fcb6bb3",
   "metadata": {},
   "outputs": [],
   "source": []
  },
  {
   "cell_type": "code",
   "execution_count": null,
   "id": "74dfe122-2e84-4265-9943-2990a69e5eef",
   "metadata": {},
   "outputs": [],
   "source": []
  },
  {
   "cell_type": "markdown",
   "id": "5b6ae14c-132f-45bd-9c0e-e6d706f3a9ea",
   "metadata": {},
   "source": [
    "### 2.4 Accessing a STAC catalog on dCache"
   ]
  },
  {
   "cell_type": "markdown",
   "id": "f91f0089-26e9-4be8-9c05-253253b786f4",
   "metadata": {},
   "source": [
    "We authenticate using a macaroon, saved in a configuration file (in `~/.config/fsspec/`, see the [STAC2dCache tutorial](https://github.com/NLeSC-GO-common-infrastructure/stac2dcache/blob/main/notebooks/tutorial.ipynb) and the [fsspec documentation](https://filesystem-spec.readthedocs.io/en/latest/features.html#configuration) for more info). We can use the `fsspec` GUI to select the root `catalog.json` file on the Daymet catalog:"
   ]
  },
  {
   "cell_type": "code",
   "execution_count": null,
   "id": "d69637d7-0c3d-4ee2-8082-a3991fe3ff35",
   "metadata": {
    "tags": []
   },
   "outputs": [],
   "source": [
    "import dcachefs\n",
    "from fsspec.gui import FileSelector"
   ]
  },
  {
   "cell_type": "code",
   "execution_count": null,
   "id": "12c92330-930f-4f61-a8e3-c82998f5f3ba",
   "metadata": {
    "tags": []
   },
   "outputs": [],
   "source": [
    "dcache_root_path = \"dcache://pnfs/grid.sara.nl/data/remotesensing/disk/\""
   ]
  },
  {
   "cell_type": "code",
   "execution_count": null,
   "id": "e820a570-d46a-461f-9974-027c6e63f7e8",
   "metadata": {},
   "outputs": [],
   "source": []
  },
  {
   "cell_type": "code",
   "execution_count": null,
   "id": "5b74ef5c-b41c-493e-8197-40206a1550b0",
   "metadata": {},
   "outputs": [],
   "source": []
  },
  {
   "cell_type": "code",
   "execution_count": null,
   "id": "e3e9517e-e536-402f-b619-31ab58ad1ecc",
   "metadata": {},
   "outputs": [],
   "source": []
  }
 ],
 "metadata": {
  "kernelspec": {
   "display_name": "Python 3 (ipykernel)",
   "language": "python",
   "name": "python3"
  },
  "language_info": {
   "codemirror_mode": {
    "name": "ipython",
    "version": 3
   },
   "file_extension": ".py",
   "mimetype": "text/x-python",
   "name": "python",
   "nbconvert_exporter": "python",
   "pygments_lexer": "ipython3",
   "version": "3.10.11"
  }
 },
 "nbformat": 4,
 "nbformat_minor": 5
}
